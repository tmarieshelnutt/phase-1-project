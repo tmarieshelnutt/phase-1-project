{
 "cells": [
  {
   "cell_type": "code",
   "execution_count": 591,
   "metadata": {},
   "outputs": [],
   "source": [
    "import csv\n",
    "import json\n",
    "import pandas as pd\n",
    "import gzip\n",
    "import numpy as np"
   ]
  },
  {
   "cell_type": "code",
   "execution_count": 592,
   "metadata": {
    "scrolled": false
   },
   "outputs": [
    {
     "name": "stdout",
     "output_type": "stream",
     "text": [
      "<class 'pandas.core.frame.DataFrame'>\n",
      "RangeIndex: 1560 entries, 0 to 1559\n",
      "Data columns (total 12 columns):\n",
      " #   Column        Non-Null Count  Dtype \n",
      "---  ------        --------------  ----- \n",
      " 0   id            1560 non-null   int64 \n",
      " 1   synopsis      1498 non-null   object\n",
      " 2   rating        1557 non-null   object\n",
      " 3   genre         1552 non-null   object\n",
      " 4   director      1361 non-null   object\n",
      " 5   writer        1111 non-null   object\n",
      " 6   theater_date  1201 non-null   object\n",
      " 7   dvd_date      1201 non-null   object\n",
      " 8   currency      340 non-null    object\n",
      " 9   box_office    340 non-null    object\n",
      " 10  runtime       1530 non-null   object\n",
      " 11  studio        494 non-null    object\n",
      "dtypes: int64(1), object(11)\n",
      "memory usage: 146.4+ KB\n"
     ]
    }
   ],
   "source": [
    "import pandas as pd\n",
    "df = pd.read_csv('rt.movie_info.tsv.gz', error_bad_lines=False, sep='\\t', engine='python')\n",
    "\n",
    "df.info()"
   ]
  },
  {
   "cell_type": "code",
   "execution_count": 593,
   "metadata": {},
   "outputs": [
    {
     "data": {
      "text/plain": [
       "Drama                                151\n",
       "Comedy                               110\n",
       "Comedy|Drama                          80\n",
       "Drama|Mystery and Suspense            67\n",
       "Art House and International|Drama     62\n",
       "Name: genre, dtype: object"
      ]
     },
     "execution_count": 593,
     "metadata": {},
     "output_type": "execute_result"
    }
   ],
   "source": [
    "val_count['genre'] = df['genre'].value_counts()\n",
    "val_count.head()"
   ]
  },
  {
   "cell_type": "code",
   "execution_count": 640,
   "metadata": {
    "scrolled": false
   },
   "outputs": [
    {
     "data": {
      "text/html": [
       "<div>\n",
       "<style scoped>\n",
       "    .dataframe tbody tr th:only-of-type {\n",
       "        vertical-align: middle;\n",
       "    }\n",
       "\n",
       "    .dataframe tbody tr th {\n",
       "        vertical-align: top;\n",
       "    }\n",
       "\n",
       "    .dataframe thead th {\n",
       "        text-align: right;\n",
       "    }\n",
       "</style>\n",
       "<table border=\"1\" class=\"dataframe\">\n",
       "  <thead>\n",
       "    <tr style=\"text-align: right;\">\n",
       "      <th></th>\n",
       "      <th>id</th>\n",
       "      <th>synopsis</th>\n",
       "      <th>rating</th>\n",
       "      <th>genre</th>\n",
       "      <th>director</th>\n",
       "      <th>writer</th>\n",
       "      <th>theater_date</th>\n",
       "      <th>dvd_date</th>\n",
       "      <th>currency</th>\n",
       "      <th>box_office</th>\n",
       "      <th>runtime</th>\n",
       "      <th>studio</th>\n",
       "    </tr>\n",
       "  </thead>\n",
       "  <tbody>\n",
       "    <tr>\n",
       "      <th>1</th>\n",
       "      <td>3</td>\n",
       "      <td>New York City, not-too-distant-future: Eric Pa...</td>\n",
       "      <td>R</td>\n",
       "      <td>Drama|Science Fiction and Fantasy</td>\n",
       "      <td>David Cronenberg</td>\n",
       "      <td>David Cronenberg|Don DeLillo</td>\n",
       "      <td>Aug 17, 2012</td>\n",
       "      <td>Jan 1, 2013</td>\n",
       "      <td>$</td>\n",
       "      <td>600,000</td>\n",
       "      <td>108 minutes</td>\n",
       "      <td>Entertainment One</td>\n",
       "    </tr>\n",
       "    <tr>\n",
       "      <th>6</th>\n",
       "      <td>10</td>\n",
       "      <td>Some cast and crew from NBC's highly acclaimed...</td>\n",
       "      <td>PG-13</td>\n",
       "      <td>Comedy</td>\n",
       "      <td>Jake Kasdan</td>\n",
       "      <td>Mike White</td>\n",
       "      <td>Jan 11, 2002</td>\n",
       "      <td>Jun 18, 2002</td>\n",
       "      <td>$</td>\n",
       "      <td>41,032,915</td>\n",
       "      <td>82 minutes</td>\n",
       "      <td>Paramount Pictures</td>\n",
       "    </tr>\n",
       "    <tr>\n",
       "      <th>7</th>\n",
       "      <td>13</td>\n",
       "      <td>Stewart Kane, an Irishman living in the Austra...</td>\n",
       "      <td>R</td>\n",
       "      <td>Drama</td>\n",
       "      <td>Ray Lawrence</td>\n",
       "      <td>Raymond Carver|Beatrix Christian</td>\n",
       "      <td>Apr 27, 2006</td>\n",
       "      <td>Oct 2, 2007</td>\n",
       "      <td>$</td>\n",
       "      <td>224,114</td>\n",
       "      <td>123 minutes</td>\n",
       "      <td>Sony Pictures Classics</td>\n",
       "    </tr>\n",
       "    <tr>\n",
       "      <th>15</th>\n",
       "      <td>22</td>\n",
       "      <td>Two-time Academy Award Winner Kevin Spacey giv...</td>\n",
       "      <td>R</td>\n",
       "      <td>Comedy|Drama|Mystery and Suspense</td>\n",
       "      <td>George Hickenlooper</td>\n",
       "      <td>Norman Snider</td>\n",
       "      <td>Dec 17, 2010</td>\n",
       "      <td>Apr 5, 2011</td>\n",
       "      <td>$</td>\n",
       "      <td>1,039,869</td>\n",
       "      <td>108 minutes</td>\n",
       "      <td>ATO Pictures</td>\n",
       "    </tr>\n",
       "    <tr>\n",
       "      <th>18</th>\n",
       "      <td>25</td>\n",
       "      <td>From ancient Japan's most enduring tale, the e...</td>\n",
       "      <td>PG-13</td>\n",
       "      <td>Action and Adventure|Drama|Science Fiction and...</td>\n",
       "      <td>Carl Erik Rinsch</td>\n",
       "      <td>Chris Morgan|Hossein Amini</td>\n",
       "      <td>Dec 25, 2013</td>\n",
       "      <td>Apr 1, 2014</td>\n",
       "      <td>$</td>\n",
       "      <td>20,518,224</td>\n",
       "      <td>127 minutes</td>\n",
       "      <td>Universal Pictures</td>\n",
       "    </tr>\n",
       "    <tr>\n",
       "      <th>...</th>\n",
       "      <td>...</td>\n",
       "      <td>...</td>\n",
       "      <td>...</td>\n",
       "      <td>...</td>\n",
       "      <td>...</td>\n",
       "      <td>...</td>\n",
       "      <td>...</td>\n",
       "      <td>...</td>\n",
       "      <td>...</td>\n",
       "      <td>...</td>\n",
       "      <td>...</td>\n",
       "      <td>...</td>\n",
       "    </tr>\n",
       "    <tr>\n",
       "      <th>1530</th>\n",
       "      <td>1968</td>\n",
       "      <td>This holiday season, acclaimed filmmaker Camer...</td>\n",
       "      <td>PG</td>\n",
       "      <td>Comedy|Drama</td>\n",
       "      <td>Cameron Crowe</td>\n",
       "      <td>Aline Brosh McKenna|Cameron Crowe</td>\n",
       "      <td>Dec 23, 2011</td>\n",
       "      <td>Apr 3, 2012</td>\n",
       "      <td>$</td>\n",
       "      <td>72,700,000</td>\n",
       "      <td>126 minutes</td>\n",
       "      <td>20th Century Fox</td>\n",
       "    </tr>\n",
       "    <tr>\n",
       "      <th>1537</th>\n",
       "      <td>1976</td>\n",
       "      <td>Embrace of the Serpent features the encounter,...</td>\n",
       "      <td>NR</td>\n",
       "      <td>Action and Adventure|Art House and International</td>\n",
       "      <td>Ciro Guerra</td>\n",
       "      <td>Ciro Guerra|Jacques Toulemonde Vidal</td>\n",
       "      <td>Feb 17, 2016</td>\n",
       "      <td>Jun 21, 2016</td>\n",
       "      <td>$</td>\n",
       "      <td>1,320,005</td>\n",
       "      <td>123 minutes</td>\n",
       "      <td>Buffalo Films</td>\n",
       "    </tr>\n",
       "    <tr>\n",
       "      <th>1541</th>\n",
       "      <td>1980</td>\n",
       "      <td>A band of renegades on the run in outer space ...</td>\n",
       "      <td>PG-13</td>\n",
       "      <td>Action and Adventure|Science Fiction and Fantasy</td>\n",
       "      <td>Joss Whedon</td>\n",
       "      <td>Joss Whedon</td>\n",
       "      <td>Sep 30, 2005</td>\n",
       "      <td>Dec 20, 2005</td>\n",
       "      <td>$</td>\n",
       "      <td>25,335,935</td>\n",
       "      <td>119 minutes</td>\n",
       "      <td>Universal Pictures</td>\n",
       "    </tr>\n",
       "    <tr>\n",
       "      <th>1542</th>\n",
       "      <td>1981</td>\n",
       "      <td>Money, Fame and the Knowledge of English. In I...</td>\n",
       "      <td>NR</td>\n",
       "      <td>Comedy|Drama</td>\n",
       "      <td>Gauri Shinde</td>\n",
       "      <td>Gauri Shinde</td>\n",
       "      <td>Oct 5, 2012</td>\n",
       "      <td>Nov 20, 2012</td>\n",
       "      <td>$</td>\n",
       "      <td>1,416,189</td>\n",
       "      <td>129 minutes</td>\n",
       "      <td>Eros Entertainment</td>\n",
       "    </tr>\n",
       "    <tr>\n",
       "      <th>1545</th>\n",
       "      <td>1985</td>\n",
       "      <td>A woman who joins the undead against her will ...</td>\n",
       "      <td>R</td>\n",
       "      <td>Horror|Mystery and Suspense</td>\n",
       "      <td>Sebastian Gutierrez</td>\n",
       "      <td>Sebastian Gutierrez</td>\n",
       "      <td>Jun 1, 2007</td>\n",
       "      <td>Oct 9, 2007</td>\n",
       "      <td>$</td>\n",
       "      <td>59,371</td>\n",
       "      <td>98 minutes</td>\n",
       "      <td>IDP Distribution</td>\n",
       "    </tr>\n",
       "  </tbody>\n",
       "</table>\n",
       "<p>235 rows × 12 columns</p>\n",
       "</div>"
      ],
      "text/plain": [
       "        id                                           synopsis rating  \\\n",
       "1        3  New York City, not-too-distant-future: Eric Pa...      R   \n",
       "6       10  Some cast and crew from NBC's highly acclaimed...  PG-13   \n",
       "7       13  Stewart Kane, an Irishman living in the Austra...      R   \n",
       "15      22  Two-time Academy Award Winner Kevin Spacey giv...      R   \n",
       "18      25  From ancient Japan's most enduring tale, the e...  PG-13   \n",
       "...    ...                                                ...    ...   \n",
       "1530  1968  This holiday season, acclaimed filmmaker Camer...     PG   \n",
       "1537  1976  Embrace of the Serpent features the encounter,...     NR   \n",
       "1541  1980  A band of renegades on the run in outer space ...  PG-13   \n",
       "1542  1981  Money, Fame and the Knowledge of English. In I...     NR   \n",
       "1545  1985  A woman who joins the undead against her will ...      R   \n",
       "\n",
       "                                                  genre             director  \\\n",
       "1                     Drama|Science Fiction and Fantasy     David Cronenberg   \n",
       "6                                                Comedy          Jake Kasdan   \n",
       "7                                                 Drama         Ray Lawrence   \n",
       "15                    Comedy|Drama|Mystery and Suspense  George Hickenlooper   \n",
       "18    Action and Adventure|Drama|Science Fiction and...     Carl Erik Rinsch   \n",
       "...                                                 ...                  ...   \n",
       "1530                                       Comedy|Drama        Cameron Crowe   \n",
       "1537   Action and Adventure|Art House and International          Ciro Guerra   \n",
       "1541   Action and Adventure|Science Fiction and Fantasy          Joss Whedon   \n",
       "1542                                       Comedy|Drama         Gauri Shinde   \n",
       "1545                        Horror|Mystery and Suspense  Sebastian Gutierrez   \n",
       "\n",
       "                                    writer  theater_date      dvd_date  \\\n",
       "1             David Cronenberg|Don DeLillo  Aug 17, 2012   Jan 1, 2013   \n",
       "6                               Mike White  Jan 11, 2002  Jun 18, 2002   \n",
       "7         Raymond Carver|Beatrix Christian  Apr 27, 2006   Oct 2, 2007   \n",
       "15                           Norman Snider  Dec 17, 2010   Apr 5, 2011   \n",
       "18              Chris Morgan|Hossein Amini  Dec 25, 2013   Apr 1, 2014   \n",
       "...                                    ...           ...           ...   \n",
       "1530     Aline Brosh McKenna|Cameron Crowe  Dec 23, 2011   Apr 3, 2012   \n",
       "1537  Ciro Guerra|Jacques Toulemonde Vidal  Feb 17, 2016  Jun 21, 2016   \n",
       "1541                           Joss Whedon  Sep 30, 2005  Dec 20, 2005   \n",
       "1542                          Gauri Shinde   Oct 5, 2012  Nov 20, 2012   \n",
       "1545                   Sebastian Gutierrez   Jun 1, 2007   Oct 9, 2007   \n",
       "\n",
       "     currency  box_office      runtime                  studio  \n",
       "1           $     600,000  108 minutes       Entertainment One  \n",
       "6           $  41,032,915   82 minutes      Paramount Pictures  \n",
       "7           $     224,114  123 minutes  Sony Pictures Classics  \n",
       "15          $   1,039,869  108 minutes            ATO Pictures  \n",
       "18          $  20,518,224  127 minutes      Universal Pictures  \n",
       "...       ...         ...          ...                     ...  \n",
       "1530        $  72,700,000  126 minutes        20th Century Fox  \n",
       "1537        $   1,320,005  123 minutes           Buffalo Films  \n",
       "1541        $  25,335,935  119 minutes      Universal Pictures  \n",
       "1542        $   1,416,189  129 minutes      Eros Entertainment  \n",
       "1545        $      59,371   98 minutes        IDP Distribution  \n",
       "\n",
       "[235 rows x 12 columns]"
      ]
     },
     "execution_count": 640,
     "metadata": {},
     "output_type": "execute_result"
    }
   ],
   "source": [
    "#df.iloc()\n",
    "df.dropna(inplace=True)\n",
    "df['box_office'].value_counts(normalize=True).head(500)\n",
    "df"
   ]
  },
  {
   "cell_type": "code",
   "execution_count": 639,
   "metadata": {},
   "outputs": [
    {
     "data": {
      "text/plain": [
       "['David Cronenberg',\n",
       " 'Jake Kasdan',\n",
       " 'Ray Lawrence',\n",
       " 'George Hickenlooper',\n",
       " 'Carl Erik Rinsch',\n",
       " 'Jim Jarmusch',\n",
       " 'Ken Loach',\n",
       " 'James Wong',\n",
       " 'Tom Hanks',\n",
       " 'Bruce Beresford',\n",
       " 'Ben Younger',\n",
       " 'Derrick Borte',\n",
       " 'Rob Bowman',\n",
       " 'Christian Alvart',\n",
       " 'Thor Freudenthal',\n",
       " 'Jennifer Jason Leigh|Alan Cumming',\n",
       " 'Clint Eastwood',\n",
       " 'Martin Campbell',\n",
       " 'Colin Trevorrow',\n",
       " 'Rakeysh Omprakash Mehra|Rakeysh Omprakesh Mehra',\n",
       " 'Jeff Byrd',\n",
       " 'Lars von Trier',\n",
       " 'Gore Verbinski',\n",
       " 'Stan Lathan|Vondie Curtis-Hall',\n",
       " 'Neil Jordan',\n",
       " 'Todd Haynes',\n",
       " 'Rob Zombie',\n",
       " 'Mark Helfrich',\n",
       " 'Seth MacFarlane',\n",
       " 'Tim Heidecker|Eric Wareheim',\n",
       " 'Michael Mann',\n",
       " 'Ryan Murphy',\n",
       " 'David Koepp',\n",
       " 'Jennifer Westfeldt',\n",
       " 'David Lowery',\n",
       " 'Seth Gordon',\n",
       " 'Guillermo del Toro',\n",
       " 'Mike Leigh',\n",
       " 'Yimou Zhang',\n",
       " 'Tyler Perry',\n",
       " 'Michael Tiddes',\n",
       " 'Laurence Dunmore',\n",
       " 'Jorge Blanco',\n",
       " 'Stephen Bradley',\n",
       " 'Ang Lee',\n",
       " 'Darnell Martin',\n",
       " 'Dave Grohl',\n",
       " 'Doug Liman',\n",
       " 'Tim Story',\n",
       " 'Kevin Munroe',\n",
       " 'Christophe Gans',\n",
       " 'Woody Allen',\n",
       " 'Rowdy Herrington',\n",
       " 'Brian Robbins',\n",
       " 'Simon Wells',\n",
       " 'Nanni Moretti',\n",
       " 'Adam Shankman',\n",
       " 'Jared Hess',\n",
       " 'Jordan Vogt-Roberts',\n",
       " 'John Stephenson',\n",
       " 'Tamara Jenkins',\n",
       " 'Jimmy Hayward',\n",
       " 'Clare Kilner',\n",
       " 'Dennis Dugan',\n",
       " 'Anton Corbijn',\n",
       " 'Justin Chadwick',\n",
       " 'Adam Ravetch|Sarah Robertson',\n",
       " 'Florian Henckel von Donnersmarck',\n",
       " 'Guy Maddin',\n",
       " 'James Isaac',\n",
       " 'Dave McCary',\n",
       " 'Joel Zwick',\n",
       " 'Clay Kaytis|Fergal Reilly',\n",
       " 'Bill Duke',\n",
       " 'Mike Tollin|Michael Tollin',\n",
       " 'William Friedkin',\n",
       " 'Philip Seymour Hoffman',\n",
       " 'Stuart Beattie',\n",
       " 'Paul Thomas Anderson',\n",
       " 'Gary Fleder',\n",
       " 'Nick Murphy',\n",
       " 'Richard Donner',\n",
       " 'Brad Furman',\n",
       " 'Jason Friedberg|Aaron Seltzer',\n",
       " 'Goran Dukic',\n",
       " 'Martin McDonagh',\n",
       " 'Sylvester Stallone',\n",
       " 'Barry Levinson',\n",
       " 'Danny Leiner',\n",
       " 'Stephen Herek',\n",
       " 'Sam Mendes',\n",
       " 'Anthony Bell|Ben Gluck|Benjamin Gluck',\n",
       " 'Steven Spielberg',\n",
       " 'Tim Disney',\n",
       " 'Peter Webber',\n",
       " 'Jed Weintrob',\n",
       " 'Harmony Korine',\n",
       " 'Robert Pulcini|Shari Springer Berman',\n",
       " 'Jay Roach',\n",
       " 'Richard Rush',\n",
       " 'Charles Shyer',\n",
       " 'Eric England',\n",
       " 'Cyrus Nowrasteh',\n",
       " 'Roman Coppola',\n",
       " 'Andrzej Bartkowiak',\n",
       " 'Patty Jenkins',\n",
       " 'Jesse Dylan',\n",
       " 'Steven Quale',\n",
       " 'Gary Winick',\n",
       " 'David Fincher',\n",
       " 'Donald Petrie',\n",
       " 'Danis Tanovic',\n",
       " 'Mel Gibson',\n",
       " 'Maggie Greenwald',\n",
       " 'Michel Hazanavicius',\n",
       " 'Gia Coppola',\n",
       " 'Bryan Singer',\n",
       " 'Hirokazu Koreeda',\n",
       " 'George Gallo',\n",
       " 'Lynn Shelton',\n",
       " 'Peter Jackson',\n",
       " 'Jeff Tremaine',\n",
       " 'Paul Feig',\n",
       " 'Alex Kendrick|Stephen Kendrick',\n",
       " 'Trent Cooper',\n",
       " 'Glenn Ficarra|John Requa',\n",
       " 'David Gelb',\n",
       " 'Henry Selick|Tim Burton',\n",
       " 'Sofia Coppola',\n",
       " 'Andrew Dominik',\n",
       " 'Gary David Goldberg',\n",
       " 'Peyton Reed',\n",
       " 'Ewan McGregor',\n",
       " 'Douglas McGrath',\n",
       " 'Frank Nissen',\n",
       " 'Thomas Carter',\n",
       " 'Marc Forster',\n",
       " 'Erik Gandini',\n",
       " 'Daniel Taplitz',\n",
       " 'Lawrence Kasdan',\n",
       " 'Jacob Aaron Estes',\n",
       " 'Steve Carr',\n",
       " 'Lisa Cholodenko',\n",
       " 'Robert Stromberg',\n",
       " 'Steve Oedekerk',\n",
       " 'Joe Roth',\n",
       " 'Curtis Hanson',\n",
       " 'Tate Taylor',\n",
       " 'Paul Weitz',\n",
       " 'Eleanor Coppola',\n",
       " 'Uli Edel|Ulrich Edel',\n",
       " 'Peter Billingsley',\n",
       " 'Judd Apatow',\n",
       " 'Trey Edward Shults',\n",
       " 'Miguel Arteta',\n",
       " 'Andrew Stanton|Mark Atkins',\n",
       " 'Chris Columbus',\n",
       " 'Kevin Smith',\n",
       " 'David Bowers',\n",
       " 'Ben Stassen',\n",
       " 'Michael Salomon|Mikael Salomon',\n",
       " 'Rob Marshall',\n",
       " 'Steven Soderbergh',\n",
       " 'Dan Mazer',\n",
       " 'John Singleton',\n",
       " 'Jonathan Liebesman',\n",
       " 'Joe Wright',\n",
       " 'Britt Allcroft',\n",
       " 'Edgar Wright',\n",
       " 'Nicholas Jasenovec',\n",
       " 'John Waters',\n",
       " 'Maggie Carey',\n",
       " 'Andrew Tennant|Andy Tennant',\n",
       " 'Haim Tabakman',\n",
       " 'Kasi Lemmons',\n",
       " 'Gus Van Sant',\n",
       " 'Jeanne Labrune',\n",
       " 'David Mackenzie',\n",
       " 'Alexander Payne',\n",
       " 'Mark Neveldine|Brian Taylor',\n",
       " 'Tim McCanlies',\n",
       " 'Josh Mond',\n",
       " 'Nick Cassavetes',\n",
       " 'Ron Clements|John Musker',\n",
       " 'Ryan Little',\n",
       " 'Paul Greengrass',\n",
       " 'John Stockwell',\n",
       " 'Ryan Coogler',\n",
       " 'Kelly Fremon Craig',\n",
       " 'Justin Lin',\n",
       " 'Will Canon',\n",
       " 'Trish Sie',\n",
       " 'Joel Coen|Ethan Coen',\n",
       " 'Jane Campion',\n",
       " 'Ash Brannon',\n",
       " 'Sean Penn',\n",
       " 'Danny Boyle',\n",
       " 'Julian Jarrold',\n",
       " 'Trey Parker',\n",
       " 'David Twohy',\n",
       " 'Craig Brewer',\n",
       " 'Peter Berg',\n",
       " 'David Zucker',\n",
       " 'Conrad Vernon|Greg Tiernan',\n",
       " 'Keenen Ivory Wayans',\n",
       " 'Alex Proyas',\n",
       " 'Harald Zwart',\n",
       " 'Michel Gondry',\n",
       " 'Bobby Farrelly|Peter Farrelly',\n",
       " 'Ricki Stern|Anne Sundberg',\n",
       " 'Ridley Scott',\n",
       " 'Robert Ramirez',\n",
       " 'Cameron Crowe',\n",
       " 'Ciro Guerra',\n",
       " 'Joss Whedon',\n",
       " 'Gauri Shinde',\n",
       " 'Sebastian Gutierrez']"
      ]
     },
     "execution_count": 639,
     "metadata": {},
     "output_type": "execute_result"
    }
   ],
   "source": [
    "df_d = df['director']\n",
    "df_d = list(dict.fromkeys(df_d))\n",
    "df_d\n",
    "\n",
    "\n",
    "\n",
    "#df_dr = df.groupby(\"director\")[\"genre\"].agg(list)\n",
    "#df_dr[\"director\"] = df[\"director\"].map(u[u.str.len().ge(2)])\n",
    "#df_dr"
   ]
  },
  {
   "cell_type": "code",
   "execution_count": 527,
   "metadata": {},
   "outputs": [
    {
     "data": {
      "text/plain": [
       "0"
      ]
     },
     "execution_count": 527,
     "metadata": {},
     "output_type": "execute_result"
    }
   ],
   "source": [
    "df['theater_date'].isnull().sum()\n"
   ]
  },
  {
   "cell_type": "code",
   "execution_count": 528,
   "metadata": {
    "scrolled": true
   },
   "outputs": [
    {
     "name": "stdout",
     "output_type": "stream",
     "text": [
      "<class 'pandas.core.frame.DataFrame'>\n",
      "Int64Index: 235 entries, 1 to 1545\n",
      "Data columns (total 12 columns):\n",
      " #   Column        Non-Null Count  Dtype \n",
      "---  ------        --------------  ----- \n",
      " 0   id            235 non-null    int64 \n",
      " 1   synopsis      235 non-null    object\n",
      " 2   rating        235 non-null    object\n",
      " 3   genre         235 non-null    object\n",
      " 4   director      235 non-null    object\n",
      " 5   writer        235 non-null    object\n",
      " 6   theater_date  235 non-null    object\n",
      " 7   dvd_date      235 non-null    object\n",
      " 8   currency      235 non-null    object\n",
      " 9   box_office    235 non-null    object\n",
      " 10  runtime       235 non-null    object\n",
      " 11  studio        235 non-null    object\n",
      "dtypes: int64(1), object(11)\n",
      "memory usage: 23.9+ KB\n"
     ]
    }
   ],
   "source": [
    "df.info()"
   ]
  },
  {
   "cell_type": "code",
   "execution_count": 529,
   "metadata": {},
   "outputs": [
    {
     "data": {
      "text/plain": [
       "'2007'"
      ]
     },
     "execution_count": 529,
     "metadata": {},
     "output_type": "execute_result"
    }
   ],
   "source": [
    "'Jun 1, 2007'[-4:]"
   ]
  },
  {
   "cell_type": "markdown",
   "metadata": {},
   "source": [
    "I am unsure of where to go from here, I thought...  Maybe that is the problem.. "
   ]
  },
  {
   "cell_type": "code",
   "execution_count": 530,
   "metadata": {},
   "outputs": [
    {
     "data": {
      "text/plain": [
       "Drama                                                      33\n",
       "Comedy                                                     32\n",
       "Comedy|Drama                                               22\n",
       "Drama|Mystery and Suspense                                 11\n",
       "Comedy|Drama|Romance                                        9\n",
       "                                                           ..\n",
       "Action and Adventure|Animation|Kids and Family              1\n",
       "Action and Adventure|Horror                                 1\n",
       "Comedy|Documentary                                          1\n",
       "Action and Adventure|Comedy|Science Fiction and Fantasy     1\n",
       "Art House and International|Comedy|Romance                  1\n",
       "Name: genre, Length: 76, dtype: int64"
      ]
     },
     "execution_count": 530,
     "metadata": {},
     "output_type": "execute_result"
    }
   ],
   "source": [
    "df['genre'].value_counts()"
   ]
  },
  {
   "cell_type": "code",
   "execution_count": 531,
   "metadata": {},
   "outputs": [
    {
     "data": {
      "text/plain": [
       "2017"
      ]
     },
     "execution_count": 531,
     "metadata": {},
     "output_type": "execute_result"
    }
   ],
   "source": [
    "date = df['year'] = pd.DatetimeIndex(df['theater_date']).year\n",
    "date.max()"
   ]
  },
  {
   "cell_type": "code",
   "execution_count": 532,
   "metadata": {},
   "outputs": [
    {
     "data": {
      "text/plain": [
       "1974"
      ]
     },
     "execution_count": 532,
     "metadata": {},
     "output_type": "execute_result"
    }
   ],
   "source": [
    "date = df['year'] = pd.DatetimeIndex(df['theater_date']).year\n",
    "date.min()"
   ]
  },
  {
   "cell_type": "code",
   "execution_count": 533,
   "metadata": {},
   "outputs": [
    {
     "data": {
      "text/html": [
       "<div>\n",
       "<style scoped>\n",
       "    .dataframe tbody tr th:only-of-type {\n",
       "        vertical-align: middle;\n",
       "    }\n",
       "\n",
       "    .dataframe tbody tr th {\n",
       "        vertical-align: top;\n",
       "    }\n",
       "\n",
       "    .dataframe thead th {\n",
       "        text-align: right;\n",
       "    }\n",
       "</style>\n",
       "<table border=\"1\" class=\"dataframe\">\n",
       "  <thead>\n",
       "    <tr style=\"text-align: right;\">\n",
       "      <th></th>\n",
       "      <th>id</th>\n",
       "      <th>synopsis</th>\n",
       "      <th>rating</th>\n",
       "      <th>genre</th>\n",
       "      <th>director</th>\n",
       "      <th>writer</th>\n",
       "      <th>theater_date</th>\n",
       "      <th>dvd_date</th>\n",
       "      <th>currency</th>\n",
       "      <th>box_office</th>\n",
       "      <th>runtime</th>\n",
       "      <th>studio</th>\n",
       "      <th>year</th>\n",
       "    </tr>\n",
       "  </thead>\n",
       "  <tbody>\n",
       "  </tbody>\n",
       "</table>\n",
       "</div>"
      ],
      "text/plain": [
       "Empty DataFrame\n",
       "Columns: [id, synopsis, rating, genre, director, writer, theater_date, dvd_date, currency, box_office, runtime, studio, year]\n",
       "Index: []"
      ]
     },
     "execution_count": 533,
     "metadata": {},
     "output_type": "execute_result"
    }
   ],
   "source": [
    "neu_zeit = df[df['theater_date'].between('1987','2017')]\n",
    "neu_zeit"
   ]
  },
  {
   "cell_type": "markdown",
   "metadata": {},
   "source": [
    "What do I need now?  I have max and min dates for 30 years (1987-2017).  Need genres in that date range..."
   ]
  },
  {
   "cell_type": "code",
   "execution_count": 534,
   "metadata": {
    "scrolled": false
   },
   "outputs": [
    {
     "data": {
      "text/plain": [
       "theater_date\n",
       "Apr 11, 2003                                             [Horror]\n",
       "Apr 13, 2012                                             [Comedy]\n",
       "Apr 14, 2006                                             [Comedy]\n",
       "Apr 16, 2010                       [Comedy|Drama|Kids and Family]\n",
       "Apr 17, 2009                 [Drama, Action and Adventure|Comedy]\n",
       "                                      ...                        \n",
       "Sep 26, 2008                                              [Drama]\n",
       "Sep 28, 2001                         [Drama|Mystery and Suspense]\n",
       "Sep 29, 2006                       [Drama|Faith and Spirituality]\n",
       "Sep 30, 2005    [Action and Adventure|Mystery and Suspense, Ac...\n",
       "Sep 6, 2013                                               [Drama]\n",
       "Name: genre, Length: 209, dtype: object"
      ]
     },
     "execution_count": 534,
     "metadata": {},
     "output_type": "execute_result"
    }
   ],
   "source": [
    "date_range['theater_date'] = df.groupby(\"theater_date\")[\"genre\"].agg(list)\n",
    "df[\"theater_date\"] = df[\"theater_date\"].map(u[u.str.len().ge(2)])\n",
    "date_range[\"theater_date\"]"
   ]
  },
  {
   "cell_type": "code",
   "execution_count": 535,
   "metadata": {},
   "outputs": [
    {
     "data": {
      "text/plain": [
       "1      NaN\n",
       "6      NaN\n",
       "7      NaN\n",
       "15     NaN\n",
       "18     NaN\n",
       "        ..\n",
       "1530   NaN\n",
       "1537   NaN\n",
       "1541   NaN\n",
       "1542   NaN\n",
       "1545   NaN\n",
       "Name: theater_date, Length: 235, dtype: float64"
      ]
     },
     "execution_count": 535,
     "metadata": {},
     "output_type": "execute_result"
    }
   ],
   "source": [
    "sorted = pd.to_numeric(df[\"theater_date\"])\n",
    "sorted\n",
    "#WTF"
   ]
  },
  {
   "cell_type": "code",
   "execution_count": 536,
   "metadata": {
    "scrolled": true
   },
   "outputs": [
    {
     "data": {
      "text/plain": [
       "Drama                                               33\n",
       "Comedy                                              32\n",
       "Comedy|Drama                                        22\n",
       "Drama|Mystery and Suspense                          11\n",
       "Comedy|Drama|Romance                                 9\n",
       "Comedy|Romance                                       8\n",
       "Action and Adventure|Science Fiction and Fantasy     7\n",
       "Art House and International|Drama                    5\n",
       "Action and Adventure|Mystery and Suspense            5\n",
       "Drama|Romance                                        5\n",
       "Name: genre, dtype: int64"
      ]
     },
     "execution_count": 536,
     "metadata": {},
     "output_type": "execute_result"
    }
   ],
   "source": [
    "df_gc = df['genre'].value_counts()\n",
    "df_gc.head(10)"
   ]
  },
  {
   "cell_type": "markdown",
   "metadata": {},
   "source": [
    "groupby genre, agg box office"
   ]
  },
  {
   "cell_type": "code",
   "execution_count": 537,
   "metadata": {
    "scrolled": true
   },
   "outputs": [
    {
     "data": {
      "text/plain": [
       "box_office\n",
       "1,000,000                        [Comedy|Drama|Kids and Family]\n",
       "1,039,869                   [Comedy|Drama|Mystery and Suspense]\n",
       "1,149,350                                              [Comedy]\n",
       "1,260,219                                              [Comedy]\n",
       "1,300,000                                              [Comedy]\n",
       "                                    ...                        \n",
       "90,672,025                                             [Comedy]\n",
       "93,008,426                               [Comedy|Drama|Romance]\n",
       "948,054                     [Art House and International|Drama]\n",
       "97,661,826                                   [Animation|Comedy]\n",
       "98,000,000    [Action and Adventure|Comedy|Science Fiction a...\n",
       "Name: genre, Length: 235, dtype: object"
      ]
     },
     "execution_count": 537,
     "metadata": {},
     "output_type": "execute_result"
    }
   ],
   "source": [
    "u['box_office'] = df.groupby(\"box_office\")[\"genre\"].agg(list)\n",
    "df[\"box_office\"] = df[\"box_office\"].map(u[u.str.len().ge(2)])\n",
    "u['box_office']"
   ]
  },
  {
   "cell_type": "code",
   "execution_count": 538,
   "metadata": {
    "scrolled": false
   },
   "outputs": [
    {
     "data": {
      "text/plain": [
       "[Drama                                               1.384627e+09\n",
       " Comedy                                              1.342669e+09\n",
       " Comedy|Drama                                        9.230848e+08\n",
       " Drama|Mystery and Suspense                          4.615424e+08\n",
       " Comedy|Drama|Romance                                3.776256e+08\n",
       " Comedy|Romance                                      3.356672e+08\n",
       " Action and Adventure|Science Fiction and Fantasy    2.937088e+08\n",
       " Art House and International|Drama                   2.097920e+08\n",
       " Action and Adventure|Mystery and Suspense           2.097920e+08\n",
       " Drama|Romance                                       2.097920e+08\n",
       " Name: genre, dtype: float64]"
      ]
     },
     "execution_count": 538,
     "metadata": {},
     "output_type": "execute_result"
    }
   ],
   "source": [
    "df_g = [df['genre'].value_counts(normalize=True).head(10) * 9860224005]\n",
    "\n",
    "df_g"
   ]
  },
  {
   "cell_type": "code",
   "execution_count": 539,
   "metadata": {},
   "outputs": [],
   "source": [
    "import matplotlib.pyplot as plt\n",
    "import numpy as np\n",
    "import seaborn as sns\n",
    "from datetime import datetime\n",
    "%matplotlib inline"
   ]
  },
  {
   "cell_type": "markdown",
   "metadata": {},
   "source": [
    "What I need here is to order the dates from 1987-2017, clear up the titles for both axis, put in a legend."
   ]
  },
  {
   "cell_type": "code",
   "execution_count": 540,
   "metadata": {
    "scrolled": true
   },
   "outputs": [
    {
     "data": {
      "image/png": "[encoded data removed]",
      "text/plain": [
       "<Figure size 432x288 with 1 Axes>"
      ]
     },
     "metadata": {
      "needs_background": "light"
     },
     "output_type": "display_data"
    }
   ],
   "source": [
    "\n",
    "fig, ax = plt.subplots()\n",
    "\n",
    "ax.scatter(['D', 'C', 'C|D', 'D|M/S', 'C|D|R', 'A/A|K/F', \n",
    "            'A/A|H', 'C|D', 'A/A|C', 'AH/I|C|R'], \n",
    "           [ 9.59, 6.99, 5.08, 4.25, 3.94, 2.67, 2.54, 2.22, 2.03, 1.97])\n",
    "ax.set(xlim = (0,9), ylim=(0,10))\n",
    "ax.set_title(\"Box Office VS Genre\")\n",
    "ax.set_ylabel(\"BO Millis/Billis\")\n",
    "ax.set_xlabel(\"Top Genre\")\n",
    "\n",
    "plt.show();"
   ]
  },
  {
   "cell_type": "markdown",
   "metadata": {},
   "source": [
    "What I need here is the boxes back in a decent fashion.  The boxes first go-round looked too uniform. FML...  This seemed so much easier than "
   ]
  },
  {
   "cell_type": "code",
   "execution_count": 100,
   "metadata": {},
   "outputs": [
    {
     "data": {
      "text/plain": [
       "12,583,510     1\n",
       "1,416,189      1\n",
       "3,349,167      1\n",
       "25,335,935     1\n",
       "18,356,529     1\n",
       "227,946,274    1\n",
       "18,013,938     1\n",
       "406,235        1\n",
       "2,839,256      1\n",
       "13,432,508     1\n",
       "Name: box_office, dtype: int64"
      ]
     },
     "execution_count": 100,
     "metadata": {},
     "output_type": "execute_result"
    }
   ],
   "source": [
    "df_bo = df['box_office'].value_counts().head(10)\n",
    "df_bo"
   ]
  },
  {
   "cell_type": "code",
   "execution_count": 541,
   "metadata": {},
   "outputs": [],
   "source": [
    "import matplotlib.mlab as mlab"
   ]
  },
  {
   "cell_type": "code",
   "execution_count": 605,
   "metadata": {
    "scrolled": true
   },
   "outputs": [
    {
     "data": {
      "image/png": "[encoded data removed]",
      "text/plain": [
       "<Figure size 432x288 with 1 Axes>"
      ]
     },
     "metadata": {
      "needs_background": "light"
     },
     "output_type": "display_data"
    }
   ],
   "source": [
    "\n",
    "fig, ax = plt.subplots()\n",
    "\n",
    "ax.stem(['D', 'C', 'C|D', 'D|M/S', 'C|D|R', 'A/A|K/F', \n",
    "            'A/A|H', 'C|D', 'A/A|C', 'AH/I|C|R'], \n",
    "           [ 9.59, 6.99, 5.08, 4.25, 3.94, 2.67, 2.54, 2.22, 2.03, 1.97])\n",
    "ax.set(xlim = (-1,9), ylim=(0,10))\n",
    "ax.set_title(\"Box Office VS Genre\")\n",
    "ax.set_ylabel(\"BO Millis/Billis\")\n",
    "ax.set_xlabel(\"Top Genre\")\n",
    "\n",
    "plt.show();"
   ]
  },
  {
   "cell_type": "code",
   "execution_count": 638,
   "metadata": {},
   "outputs": [
    {
     "ename": "AttributeError",
     "evalue": "module 'numpy' has no attribute 'arrange'",
     "output_type": "error",
     "traceback": [
      "\u001b[1;31m---------------------------------------------------------------------------\u001b[0m",
      "\u001b[1;31mAttributeError\u001b[0m                            Traceback (most recent call last)",
      "\u001b[1;32m<ipython-input-638-1d3b090d67c8>\u001b[0m in \u001b[0;36m<module>\u001b[1;34m\u001b[0m\n\u001b[0;32m     13\u001b[0m \u001b[0max\u001b[0m\u001b[1;33m.\u001b[0m\u001b[0mset_xlabel\u001b[0m\u001b[1;33m(\u001b[0m\u001b[1;34m\"Director\"\u001b[0m\u001b[1;33m)\u001b[0m\u001b[1;33m\u001b[0m\u001b[1;33m\u001b[0m\u001b[0m\n\u001b[0;32m     14\u001b[0m \u001b[1;33m\u001b[0m\u001b[0m\n\u001b[1;32m---> 15\u001b[1;33m \u001b[0mplt\u001b[0m\u001b[1;33m.\u001b[0m\u001b[0mxticks\u001b[0m\u001b[1;33m(\u001b[0m\u001b[0mnp\u001b[0m\u001b[1;33m.\u001b[0m\u001b[0marrange\u001b[0m\u001b[1;33m(\u001b[0m\u001b[1;36m0\u001b[0m\u001b[1;33m,\u001b[0m \u001b[0mmax\u001b[0m\u001b[1;33m(\u001b[0m\u001b[0mdf\u001b[0m\u001b[1;33m[\u001b[0m\u001b[1;34m'directors'\u001b[0m\u001b[1;33m]\u001b[0m\u001b[1;33m)\u001b[0m\u001b[1;33m)\u001b[0m\u001b[1;33m)\u001b[0m\u001b[1;33m\u001b[0m\u001b[1;33m\u001b[0m\u001b[0m\n\u001b[0m\u001b[0;32m     16\u001b[0m \u001b[1;33m\u001b[0m\u001b[0m\n\u001b[0;32m     17\u001b[0m \u001b[1;31m#label = ax.yaxis.get_major_ticks()[2].label\u001b[0m\u001b[1;33m\u001b[0m\u001b[1;33m\u001b[0m\u001b[1;33m\u001b[0m\u001b[0m\n",
      "\u001b[1;32m~\\anaconda3\\anacondafl\\envs\\learn-env\\lib\\site-packages\\numpy\\__init__.py\u001b[0m in \u001b[0;36m__getattr__\u001b[1;34m(attr)\u001b[0m\n\u001b[0;32m    217\u001b[0m                 \u001b[1;32mreturn\u001b[0m \u001b[0mTester\u001b[0m\u001b[1;33m\u001b[0m\u001b[1;33m\u001b[0m\u001b[0m\n\u001b[0;32m    218\u001b[0m             \u001b[1;32melse\u001b[0m\u001b[1;33m:\u001b[0m\u001b[1;33m\u001b[0m\u001b[1;33m\u001b[0m\u001b[0m\n\u001b[1;32m--> 219\u001b[1;33m                 raise AttributeError(\"module {!r} has no attribute \"\n\u001b[0m\u001b[0;32m    220\u001b[0m                                      \"{!r}\".format(__name__, attr))\n\u001b[0;32m    221\u001b[0m \u001b[1;33m\u001b[0m\u001b[0m\n",
      "\u001b[1;31mAttributeError\u001b[0m: module 'numpy' has no attribute 'arrange'"
     ]
    },
    {
     "data": {
      "image/png": "[encoded data removed]",
      "text/plain": [
       "<Figure size 1440x360 with 1 Axes>"
      ]
     },
     "metadata": {
      "needs_background": "light"
     },
     "output_type": "display_data"
    }
   ],
   "source": [
    "fig, ax = plt.subplots(figsize=(20, 5))\n",
    "\n",
    "y = df[\"genre\"] \n",
    "x = df['director']\n",
    "\n",
    "ax.scatter(x, y, s=5, c=\"purple\", vmin=0, vmax=250)\n",
    "\n",
    "#plt.bar(x,y) \n",
    "          \n",
    "ax.set(xlim = (-1,100), ylim=(0,30))\n",
    "ax.set_title(\"Director VS Genre\")\n",
    "ax.set_ylabel(\"Genre\")\n",
    "ax.set_xlabel(\"Director\")\n",
    "\n",
    "#plt.xticks(np.arrange(0, max(df['directors'])))\n",
    "\n",
    "#label = ax.yaxis.get_major_ticks()[2].label\n",
    "#label.set_fontsize(5)\n",
    "#ax.label.set_rotation('vertical')\n",
    "#set_xticklabels('D', 'C', 'C|D', 'D|M/S', 'C|D|R', 'A/A|K/F', \n",
    "#                'A/A|H', 'C|D', 'A/A|C|SF/F', 'AH/I|C|R')\n",
    "plt.show();\n"
   ]
  },
  {
   "cell_type": "code",
   "execution_count": null,
   "metadata": {},
   "outputs": [],
   "source": []
  }
 ],
 "metadata": {
  "kernelspec": {
   "display_name": "Python (learn-env)",
   "language": "python",
   "name": "learn-env"
  },
  "language_info": {
   "codemirror_mode": {
    "name": "ipython",
    "version": 3
   },
   "file_extension": ".py",
   "mimetype": "text/x-python",
   "name": "python",
   "nbconvert_exporter": "python",
   "pygments_lexer": "ipython3",
   "version": "3.8.5"
  }
 },
 "nbformat": 4,
 "nbformat_minor": 4
}
