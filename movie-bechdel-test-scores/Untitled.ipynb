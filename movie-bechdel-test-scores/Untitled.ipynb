{
 "cells": [
  {
   "cell_type": "code",
   "execution_count": 1,
   "metadata": {},
   "outputs": [
    {
     "name": "stdout",
     "output_type": "stream",
     "text": [
      "Requirement already satisfied: opendatasets in c:\\users\\tmari\\anaconda3\\anacondafl\\envs\\learn-env\\lib\\site-packages (0.1.22)\n",
      "Requirement already satisfied: click in c:\\users\\tmari\\anaconda3\\anacondafl\\envs\\learn-env\\lib\\site-packages (from opendatasets) (7.1.2)\n",
      "Requirement already satisfied: kaggle in c:\\users\\tmari\\anaconda3\\anacondafl\\envs\\learn-env\\lib\\site-packages (from opendatasets) (1.5.12)\n",
      "Requirement already satisfied: tqdm in c:\\users\\tmari\\anaconda3\\anacondafl\\envs\\learn-env\\lib\\site-packages (from opendatasets) (4.50.2)\n",
      "Requirement already satisfied: python-dateutil in c:\\users\\tmari\\anaconda3\\anacondafl\\envs\\learn-env\\lib\\site-packages (from kaggle->opendatasets) (2.8.1)\n",
      "Requirement already satisfied: python-slugify in c:\\users\\tmari\\anaconda3\\anacondafl\\envs\\learn-env\\lib\\site-packages (from kaggle->opendatasets) (6.1.2)\n",
      "Requirement already satisfied: requests in c:\\users\\tmari\\anaconda3\\anacondafl\\envs\\learn-env\\lib\\site-packages (from kaggle->opendatasets) (2.24.0)\n",
      "Requirement already satisfied: urllib3 in c:\\users\\tmari\\anaconda3\\anacondafl\\envs\\learn-env\\lib\\site-packages (from kaggle->opendatasets) (1.25.10)\n",
      "Requirement already satisfied: certifi in c:\\users\\tmari\\anaconda3\\anacondafl\\envs\\learn-env\\lib\\site-packages (from kaggle->opendatasets) (2021.10.8)\n",
      "Requirement already satisfied: six>=1.10 in c:\\users\\tmari\\anaconda3\\anacondafl\\envs\\learn-env\\lib\\site-packages (from kaggle->opendatasets) (1.15.0)\n",
      "Requirement already satisfied: text-unidecode>=1.3 in c:\\users\\tmari\\anaconda3\\anacondafl\\envs\\learn-env\\lib\\site-packages (from python-slugify->kaggle->opendatasets) (1.3)\n",
      "Requirement already satisfied: idna<3,>=2.5 in c:\\users\\tmari\\anaconda3\\anacondafl\\envs\\learn-env\\lib\\site-packages (from requests->kaggle->opendatasets) (2.10)\n",
      "Requirement already satisfied: chardet<4,>=3.0.2 in c:\\users\\tmari\\anaconda3\\anacondafl\\envs\\learn-env\\lib\\site-packages (from requests->kaggle->opendatasets) (3.0.4)\n"
     ]
    }
   ],
   "source": [
    "import csv\n",
    "import json\n",
    "import gzip\n",
    "import pandas as pd\n",
    "import numpy as np\n",
    "import matplotlib.pyplot as plt\n",
    "%matplotlib inline\n",
    "!pip install opendatasets\n",
    "import opendatasets as od"
   ]
  },
  {
   "cell_type": "code",
   "execution_count": null,
   "metadata": {},
   "outputs": [],
   "source": []
  }
 ],
 "metadata": {
  "kernelspec": {
   "display_name": "Python (learn-env)",
   "language": "python",
   "name": "learn-env"
  },
  "language_info": {
   "codemirror_mode": {
    "name": "ipython",
    "version": 3
   },
   "file_extension": ".py",
   "mimetype": "text/x-python",
   "name": "python",
   "nbconvert_exporter": "python",
   "pygments_lexer": "ipython3",
   "version": "3.8.5"
  }
 },
 "nbformat": 4,
 "nbformat_minor": 4
}
